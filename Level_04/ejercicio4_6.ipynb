{
  "nbformat": 4,
  "nbformat_minor": 0,
  "metadata": {
    "colab": {
      "provenance": [],
      "authorship_tag": "ABX9TyPIFylU3QXiETwmwP8BEByF",
      "include_colab_link": true
    },
    "kernelspec": {
      "name": "python3",
      "display_name": "Python 3"
    },
    "language_info": {
      "name": "python"
    }
  },
  "cells": [
    {
      "cell_type": "markdown",
      "metadata": {
        "id": "view-in-github",
        "colab_type": "text"
      },
      "source": [
        "<a href=\"https://colab.research.google.com/github/JoseLuisColoma/The_Complete_Python_Course_2024/blob/master/Level_04/ejercicio4_6.ipynb\" target=\"_parent\"><img src=\"https://colab.research.google.com/assets/colab-badge.svg\" alt=\"Open In Colab\"/></a>"
      ]
    },
    {
      "cell_type": "markdown",
      "source": [
        "* Step 1 of 1: Create a custom function that converts Celsius\n",
        "into Fahrenheit.\n",
        "* Please use the word return in your function"
      ],
      "metadata": {
        "id": "So2fGen6XmWw"
      }
    },
    {
      "cell_type": "code",
      "source": [
        "grados = int(input('Dame los grados en Celsius: '))\n",
        "\n",
        "def celsius_a_farenheit(celsius):\n",
        " return celsius*1.8 + 32\n",
        "\n",
        "celsius_a_farenheit(grados)"
      ],
      "metadata": {
        "colab": {
          "base_uri": "https://localhost:8080/"
        },
        "id": "UrOvQnTrX1Yl",
        "outputId": "9d449419-7826-4a46-96e3-abc155788694"
      },
      "execution_count": 16,
      "outputs": [
        {
          "name": "stdout",
          "output_type": "stream",
          "text": [
            "Dame los grados en Celsius: 100\n"
          ]
        },
        {
          "output_type": "execute_result",
          "data": {
            "text/plain": [
              "212.0"
            ]
          },
          "metadata": {},
          "execution_count": 16
        }
      ]
    }
  ]
}