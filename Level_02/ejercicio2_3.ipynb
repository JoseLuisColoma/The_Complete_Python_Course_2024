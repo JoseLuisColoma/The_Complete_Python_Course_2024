{
  "nbformat": 4,
  "nbformat_minor": 0,
  "metadata": {
    "colab": {
      "provenance": [],
      "authorship_tag": "ABX9TyOSDZ6NLRqpG7CYzVe/M70u",
      "include_colab_link": true
    },
    "kernelspec": {
      "name": "python3",
      "display_name": "Python 3"
    },
    "language_info": {
      "name": "python"
    }
  },
  "cells": [
    {
      "cell_type": "markdown",
      "metadata": {
        "id": "view-in-github",
        "colab_type": "text"
      },
      "source": [
        "<a href=\"https://colab.research.google.com/github/JoseLuisColoma/The_Complete_Python_Course_2024/blob/master/Level_02/ejercicio2_3.ipynb\" target=\"_parent\"><img src=\"https://colab.research.google.com/assets/colab-badge.svg\" alt=\"Open In Colab\"/></a>"
      ]
    },
    {
      "cell_type": "markdown",
      "source": [
        "* C3P0 is 1.75 meters tall & R2D2 is 1.09 meters tall.\n",
        "* Step 1: Create a variable called height as a string type\n",
        "* Step 2: Assign the height a value of 1.09\n",
        "* Step 3: Print the height of R2D2\n",
        "* Step 4: Change the height data type from string to floating\n",
        "* Step 5: Add 0.66 to 1.09\n",
        "* Step 6: Print the new height"
      ],
      "metadata": {
        "id": "edArg3oMulED"
      }
    },
    {
      "cell_type": "code",
      "source": [
        "height = str(1.09)\n",
        "print(height)\n",
        "height = float(1.09)\n",
        "height = height + 0.66\n",
        "print(height)"
      ],
      "metadata": {
        "colab": {
          "base_uri": "https://localhost:8080/"
        },
        "id": "GWuceNyBxX5h",
        "outputId": "bf02e41e-248d-4f37-a59d-5fcf21cf3378"
      },
      "execution_count": 34,
      "outputs": [
        {
          "output_type": "stream",
          "name": "stdout",
          "text": [
            "1.09\n",
            "1.75\n"
          ]
        }
      ]
    }
  ]
}