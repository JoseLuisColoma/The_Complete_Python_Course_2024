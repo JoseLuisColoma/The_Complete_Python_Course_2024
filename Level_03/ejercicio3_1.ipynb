{
  "nbformat": 4,
  "nbformat_minor": 0,
  "metadata": {
    "colab": {
      "provenance": [],
      "authorship_tag": "ABX9TyPi4mMtkXmSq8kwTe1sc8q5",
      "include_colab_link": true
    },
    "kernelspec": {
      "name": "python3",
      "display_name": "Python 3"
    },
    "language_info": {
      "name": "python"
    }
  },
  "cells": [
    {
      "cell_type": "markdown",
      "metadata": {
        "id": "view-in-github",
        "colab_type": "text"
      },
      "source": [
        "<a href=\"https://colab.research.google.com/github/JoseLuisColoma/The_Complete_Python_Course_2024/blob/master/Level_03/ejercicio3_1.ipynb\" target=\"_parent\"><img src=\"https://colab.research.google.com/assets/colab-badge.svg\" alt=\"Open In Colab\"/></a>"
      ]
    },
    {
      "cell_type": "markdown",
      "source": [
        "* Ahsoka is 1.70 meters tall, Yoda is 0.66 meters tall, R2D2 is 1.09 meters tall and C3P0 is 1.75 meters tall\n",
        "\n",
        "* Step 1: Get the average height of the 4 characters\n",
        "\n",
        "* Step 2: Print the average height\n",
        "\n",
        "* Step 3: Define 4 variables in your calculations as follows:\n",
        "Ahsoka heigh, Yoda height, R2D2 height, C3P0 height"
      ],
      "metadata": {
        "id": "So2fGen6XmWw"
      }
    },
    {
      "cell_type": "code",
      "execution_count": 5,
      "metadata": {
        "colab": {
          "base_uri": "https://localhost:8080/"
        },
        "id": "YhNXS6tdXeJT",
        "outputId": "c5d86dc9-244d-417d-f61a-ac78ce7b8a6a"
      },
      "outputs": [
        {
          "output_type": "stream",
          "name": "stdout",
          "text": [
            "La media de la altura de los personajes es: 1.3\n"
          ]
        }
      ],
      "source": [
        "h_ashoka = 1.7\n",
        "h_yoda = 0.66\n",
        "h_r2d2 = 1.09\n",
        "h_c3po = 1.75\n",
        "num_personajes = 4\n",
        "media = 0\n",
        "\n",
        "media = (h_ashoka + h_yoda+ h_r2d2 + h_c3po)/num_personajes\n",
        "print(f'La media de la altura de los personajes es: {media}')\n"
      ]
    }
  ]
}