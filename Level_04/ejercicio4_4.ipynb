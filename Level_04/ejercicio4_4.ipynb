{
  "nbformat": 4,
  "nbformat_minor": 0,
  "metadata": {
    "colab": {
      "provenance": [],
      "authorship_tag": "ABX9TyM820t9Y6EGXI609VG1y6Qb",
      "include_colab_link": true
    },
    "kernelspec": {
      "name": "python3",
      "display_name": "Python 3"
    },
    "language_info": {
      "name": "python"
    }
  },
  "cells": [
    {
      "cell_type": "markdown",
      "metadata": {
        "id": "view-in-github",
        "colab_type": "text"
      },
      "source": [
        "<a href=\"https://colab.research.google.com/github/JoseLuisColoma/The_Complete_Python_Course_2024/blob/master/Level_04/ejercicio4_4.ipynb\" target=\"_parent\"><img src=\"https://colab.research.google.com/assets/colab-badge.svg\" alt=\"Open In Colab\"/></a>"
      ]
    },
    {
      "cell_type": "markdown",
      "source": [
        "* Step 1: Ask who was on the Titanic?\n",
        "* Step 2: Ask what year is it currently?\n",
        "* Step 3: Print: Jack and Rose were on the Titanic, which sunk\n",
        "112 years ago."
      ],
      "metadata": {
        "id": "So2fGen6XmWw"
      }
    },
    {
      "cell_type": "code",
      "source": [
        "nombres = input('Quiénes estuvieron en el Titanic? ')\n",
        "fecha_titanic = int(input('En qué fecha sucedió lo del Ttanic? '))\n",
        "fecha_actual = 2024\n",
        "def titanic(nombres, fecha_titanic, fecha_actual):\n",
        "  fecha = fecha_actual -  fecha_titanic\n",
        "  print(f'{nombres} estuvieron en el Titanic, el cual se hundió hace {fecha} años.')\n",
        "\n",
        "titanic(nombres, fecha_titanic, fecha_actual)"
      ],
      "metadata": {
        "colab": {
          "base_uri": "https://localhost:8080/"
        },
        "id": "Mnt-jmqIU_mv",
        "outputId": "24e7cbee-5f4f-4a94-b0f1-632eef63a28a"
      },
      "execution_count": 9,
      "outputs": [
        {
          "output_type": "stream",
          "name": "stdout",
          "text": [
            "Quiénes estuvieron en el Titanic? Jack y Rose\n",
            "En qué fecha sucedió lo del Ttanic? 1912\n",
            "Jack y Rose estuvieron en el Titanic, el cual se hundió hace 112 años.\n"
          ]
        }
      ]
    }
  ]
}