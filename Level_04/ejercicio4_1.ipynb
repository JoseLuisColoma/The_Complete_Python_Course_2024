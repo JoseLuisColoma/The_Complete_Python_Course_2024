{
  "nbformat": 4,
  "nbformat_minor": 0,
  "metadata": {
    "colab": {
      "provenance": [],
      "authorship_tag": "ABX9TyOw0Ys2PWUDLDyGsHeBiQK9",
      "include_colab_link": true
    },
    "kernelspec": {
      "name": "python3",
      "display_name": "Python 3"
    },
    "language_info": {
      "name": "python"
    }
  },
  "cells": [
    {
      "cell_type": "markdown",
      "metadata": {
        "id": "view-in-github",
        "colab_type": "text"
      },
      "source": [
        "<a href=\"https://colab.research.google.com/github/JoseLuisColoma/The_Complete_Python_Course_2024/blob/master/Level_04/ejercicio4_1.ipynb\" target=\"_parent\"><img src=\"https://colab.research.google.com/assets/colab-badge.svg\" alt=\"Open In Colab\"/></a>"
      ]
    },
    {
      "cell_type": "markdown",
      "source": [
        "* Ahsoka is 1.70 meters tall, Yoda is 0.66 meters tall and R2D2 is 1.09 meters tall\n",
        "* Step 1: Create the variables of height for the 3 characters\n",
        "* Step 2: Create a print line of code that prints this:\n",
        "The average height is `[put the average height here]p . The maximum height is `[put the maximum height here]`. The minimum height is `[put the maximum height here]`.\n",
        "* Step 3: This is tricky, but fun, you have"
      ],
      "metadata": {
        "id": "So2fGen6XmWw"
      }
    },
    {
      "cell_type": "code",
      "execution_count": 14,
      "metadata": {
        "colab": {
          "base_uri": "https://localhost:8080/"
        },
        "id": "YhNXS6tdXeJT",
        "outputId": "05527347-a8ef-4a27-c709-213c22666c6e"
      },
      "outputs": [
        {
          "output_type": "stream",
          "name": "stdout",
          "text": [
            "La altura media es: 1.15m. La altura mínima es: 0.66m. La altura máxima es: 1.7m.\n"
          ]
        }
      ],
      "source": [
        "ashoka_h = 1.70\n",
        "yoda_h = 0.66\n",
        "r2d2_h = 1.09\n",
        "media_altura = (ashoka_h + yoda_h + r2d2_h)/3\n",
        "minima_altura = min(ashoka_h, yoda_h, r2d2_h)\n",
        "maxima_altura = max(ashoka_h, yoda_h, r2d2_h)\n",
        "print('La altura media es: ' + str(round(media_altura,2)) + 'm. La altura mínima es: ' + str(minima_altura) + 'm. La altura máxima es: ' + str(maxima_altura) + 'm.')\n"
      ]
    }
  ]
}