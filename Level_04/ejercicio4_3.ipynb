{
  "nbformat": 4,
  "nbformat_minor": 0,
  "metadata": {
    "colab": {
      "provenance": [],
      "authorship_tag": "ABX9TyMuh8iKEk2l5dnNkIQBMr5B",
      "include_colab_link": true
    },
    "kernelspec": {
      "name": "python3",
      "display_name": "Python 3"
    },
    "language_info": {
      "name": "python"
    }
  },
  "cells": [
    {
      "cell_type": "markdown",
      "metadata": {
        "id": "view-in-github",
        "colab_type": "text"
      },
      "source": [
        "<a href=\"https://colab.research.google.com/github/JoseLuisColoma/The_Complete_Python_Course_2024/blob/master/Level_04/ejercicio4_3.ipynb\" target=\"_parent\"><img src=\"https://colab.research.google.com/assets/colab-badge.svg\" alt=\"Open In Colab\"/></a>"
      ]
    },
    {
      "cell_type": "markdown",
      "source": [
        "* Step 1: Define a function called age_of_rey\n",
        "* Step 2: In the function, ask \"How old is Rey? \"\n",
        "* Step 3: In the function print Rey's age is 19.\n",
        "* Step 4: Call the function and enter Rey's age, which is 19."
      ],
      "metadata": {
        "id": "So2fGen6XmWw"
      }
    },
    {
      "cell_type": "code",
      "source": [
        "def edad_de_rey():\n",
        "  edad = int(input('Dime la edad de Rey: '))\n",
        "  print(f'La edad de Rey es {edad} años')\n",
        "edad_de_rey()"
      ],
      "metadata": {
        "colab": {
          "base_uri": "https://localhost:8080/"
        },
        "id": "Z8cWQtNO_ME1",
        "outputId": "6d39fb7a-1159-4cf8-e4ab-aeb7f5c4ce31"
      },
      "execution_count": 21,
      "outputs": [
        {
          "output_type": "stream",
          "name": "stdout",
          "text": [
            "Dime la edad de Rey: 30\n",
            "La edad de Rey es 30 años\n"
          ]
        }
      ]
    }
  ]
}