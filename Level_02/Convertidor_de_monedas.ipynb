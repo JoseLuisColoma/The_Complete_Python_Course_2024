{
  "nbformat": 4,
  "nbformat_minor": 0,
  "metadata": {
    "colab": {
      "provenance": [],
      "authorship_tag": "ABX9TyO+caxMw4s6AQkp30nUIv/M",
      "include_colab_link": true
    },
    "kernelspec": {
      "name": "python3",
      "display_name": "Python 3"
    },
    "language_info": {
      "name": "python"
    }
  },
  "cells": [
    {
      "cell_type": "markdown",
      "metadata": {
        "id": "view-in-github",
        "colab_type": "text"
      },
      "source": [
        "<a href=\"https://colab.research.google.com/github/JoseLuisColoma/The_Complete_Python_Course_2024/blob/master/Level_02/Convertidor_de_monedas.ipynb\" target=\"_parent\"><img src=\"https://colab.research.google.com/assets/colab-badge.svg\" alt=\"Open In Colab\"/></a>"
      ]
    },
    {
      "cell_type": "markdown",
      "source": [
        "# Level 2 Final Exercise: Currency Converter\n",
        "\n",
        "## Objective\n",
        "You've just been hired as a junior developer at a travel agency, and your first task is to create a simple currency converter. Your program will convert US Dollars (USD) to Euros (EUR).\n",
        "\n",
        "## Instructions\n",
        "\n",
        "1. Create a variable named `usd_amount` and assign it the value of 100.\n",
        "2. Create a variable named `exchange_rate` and assign it the value of 0.85 (this means 1 USD is equal to 0.85 EUR).\n",
        "3. Perform the conversion by creating a new variable `eur_amount`. Multiply `usd_amount` by `exchange_rate`.\n",
        "4. Change the data type of `eur_amount` to an integer.\n",
        "5. Print `eur_amount`.\n",
        "\n",
        "## Code Template\n",
        "You can start with the following code template."
      ],
      "metadata": {
        "id": "So2fGen6XmWw"
      }
    },
    {
      "cell_type": "code",
      "execution_count": 1,
      "metadata": {
        "colab": {
          "base_uri": "https://localhost:8080/"
        },
        "id": "YhNXS6tdXeJT",
        "outputId": "7c8e9d12-ebba-493b-b999-c0a6ea303b05"
      },
      "outputs": [
        {
          "output_type": "stream",
          "name": "stdout",
          "text": [
            "The amount in EUR is: 85€\n"
          ]
        }
      ],
      "source": [
        "# Step 1: Initialize USD amount\n",
        "usd_amount = 100\n",
        "\n",
        "# Step 2: Initialize the exchange rate\n",
        "exchange_rate = 0.85\n",
        "\n",
        "# Step 3: Perform the conversion\n",
        "eur_amount = usd_amount * exchange_rate\n",
        "\n",
        "# Step 4: Change data type to integer\n",
        "eur_amount = int(eur_amount)\n",
        "\n",
        "# Step 5: Print the amount in EUR\n",
        "print(f'The amount in EUR is: {eur_amount}€')"
      ]
    }
  ]
}