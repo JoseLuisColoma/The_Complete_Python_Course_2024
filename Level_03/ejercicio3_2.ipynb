{
  "nbformat": 4,
  "nbformat_minor": 0,
  "metadata": {
    "colab": {
      "provenance": [],
      "authorship_tag": "ABX9TyNW1G357UiL6bCqdv12YN2h",
      "include_colab_link": true
    },
    "kernelspec": {
      "name": "python3",
      "display_name": "Python 3"
    },
    "language_info": {
      "name": "python"
    }
  },
  "cells": [
    {
      "cell_type": "markdown",
      "metadata": {
        "id": "view-in-github",
        "colab_type": "text"
      },
      "source": [
        "<a href=\"https://colab.research.google.com/github/JoseLuisColoma/The_Complete_Python_Course_2024/blob/master/Level_03/ejercicio3_2.ipynb\" target=\"_parent\"><img src=\"https://colab.research.google.com/assets/colab-badge.svg\" alt=\"Open In Colab\"/></a>"
      ]
    },
    {
      "cell_type": "markdown",
      "source": [
        "* Step 1: Define 2 names as Jack & Rose\n",
        "\n",
        "* Step 2: Define the year as 1912\n",
        "\n",
        "* Step 3: Using the 2 name variables and the year variable, print this:\n",
        "Jack and Rose were on the Titanic in 1912"
      ],
      "metadata": {
        "id": "So2fGen6XmWw"
      }
    },
    {
      "cell_type": "code",
      "execution_count": 7,
      "metadata": {
        "colab": {
          "base_uri": "https://localhost:8080/"
        },
        "id": "YhNXS6tdXeJT",
        "outputId": "b663352f-f829-483f-df0e-17381fcb6d5f"
      },
      "outputs": [
        {
          "output_type": "stream",
          "name": "stdout",
          "text": [
            "Jack y Rose estuvieron en el Titanic en 1912\n"
          ]
        }
      ],
      "source": [
        "nombre1 = 'Jack'\n",
        "nombre2 = 'Rose'\n",
        "fecha = 1912\n",
        "print(nombre1 + ' y ' + nombre2 + ' estuvieron en el Titanic en ' + str(fecha))\n"
      ]
    }
  ]
}