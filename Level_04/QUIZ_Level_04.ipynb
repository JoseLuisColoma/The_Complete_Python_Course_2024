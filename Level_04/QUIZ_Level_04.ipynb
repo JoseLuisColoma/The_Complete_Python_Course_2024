{
  "nbformat": 4,
  "nbformat_minor": 0,
  "metadata": {
    "colab": {
      "provenance": [],
      "authorship_tag": "ABX9TyNzOE67v2HCMJBaCdvpz85x",
      "include_colab_link": true
    },
    "kernelspec": {
      "name": "python3",
      "display_name": "Python 3"
    },
    "language_info": {
      "name": "python"
    }
  },
  "cells": [
    {
      "cell_type": "markdown",
      "metadata": {
        "id": "view-in-github",
        "colab_type": "text"
      },
      "source": [
        "<a href=\"https://colab.research.google.com/github/JoseLuisColoma/The_Complete_Python_Course_2024/blob/master/Level_04/QUIZ_Level_04.ipynb\" target=\"_parent\"><img src=\"https://colab.research.google.com/assets/colab-badge.svg\" alt=\"Open In Colab\"/></a>"
      ]
    },
    {
      "cell_type": "markdown",
      "source": [
        "* Por favor responde las siguientes preguntas de opción múltiple.\n",
        "\n",
        "* Si tenemos 3 líneas de código (mostradas a continuación), y el resultado cuando ejecutamos el código es 12, ¿cuál es la función que deberíamos usar (es decir, completar el espacio en blanco en la línea 2)?\n",
        "a = -12\n",
        "___(a)\n",
        "print(a)\n",
        "a. absolute\n",
        "b. ABS\n",
        "**c. Abs**\n",
        "d. Ninguna de las respuestas anteriores es correcta.\n",
        "\n",
        "* Si tenemos 3 variables a, b y c, ¿qué línea de código calculará el valor mínimo?\n",
        "a. Minimum(a,b,c)\n",
        "b. Min(a,b,c)\n",
        "**c. min(a,b,c)**\n",
        "d. min(a&b&c)\n",
        "\n",
        "* ¿Qué línea de código deberíamos escribir para pedirle al usuario que introduzca su nombre?\n",
        "\n",
        "a. Input(\"¿Cuál es tu nombre? \")\n",
        "\n",
        "**b. input(\"¿Cuál es tu nombre? \")**\n",
        "\n",
        "c. Input(¿Cuál es tu nombre? )\n",
        "\n",
        "d. input(¿Cuál es tu nombre?)\n",
        "\n",
        "* ¿Qué está mal en el siguiente código que define una función (líneas 1 y 2) y luego llama a la función personalizada (línea 3)?\n",
        "\n",
        "Def print_hello_world_function()\n",
        "print(\"Hello World\")\n",
        "print_hello_world_function:\n",
        "\n",
        "a. \"Def\" debería estar en minúsculas\n",
        "\n",
        "b. Necesitamos agregar \":\" al final de la primera línea\n",
        "\n",
        "c. La segunda línea debería estar indentada\n",
        "\n",
        "d. Debemos eliminar los \":\" en la línea 3 y reemplazarlos por \"()\"\n",
        "\n",
        "**e. Todas las respuestas anteriores son correctas (es decir, todas identifican problemas en el código).**\n",
        "\n",
        "* Si ejecutamos el siguiente código, ¿cuál será el resultado?\n",
        "\n",
        "def your_name(name=\"Yoda\"):\n",
        "    print(\"Tu nombre es \" + name)\n",
        "your_name()\n",
        "\n",
        "a. No se mostrará nada – la respuesta está en blanco\n",
        "\n",
        "b. Tu nombre es\n",
        "\n",
        "**c. Tu nombre es Yoda**\n",
        "\n",
        "d. Ninguna de las respuestas anteriores es correcta.\n",
        "\n"
      ],
      "metadata": {
        "id": "So2fGen6XmWw"
      }
    }
  ]
}