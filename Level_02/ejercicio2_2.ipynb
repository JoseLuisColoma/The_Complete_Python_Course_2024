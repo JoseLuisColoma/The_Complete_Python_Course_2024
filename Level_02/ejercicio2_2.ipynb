{
  "nbformat": 4,
  "nbformat_minor": 0,
  "metadata": {
    "colab": {
      "provenance": [],
      "authorship_tag": "ABX9TyO2BUvgbzm04MY/R99FefJE",
      "include_colab_link": true
    },
    "kernelspec": {
      "name": "python3",
      "display_name": "Python 3"
    },
    "language_info": {
      "name": "python"
    }
  },
  "cells": [
    {
      "cell_type": "markdown",
      "metadata": {
        "id": "view-in-github",
        "colab_type": "text"
      },
      "source": [
        "<a href=\"https://colab.research.google.com/github/JoseLuisColoma/The_Complete_Python_Course_2024/blob/master/Level_02/ejercicio2_2.ipynb\" target=\"_parent\"><img src=\"https://colab.research.google.com/assets/colab-badge.svg\" alt=\"Open In Colab\"/></a>"
      ]
    },
    {
      "cell_type": "markdown",
      "source": [
        "* Step 1 for Line 1 of Code: Define a Boolean variable called i cannot do it as false\n",
        "* Step 2 for Line 2 of Code: Print the variable\n",
        "* Step 3 for Line 3 of Code: Define a floating variable called the answer as 42.01\n",
        "* Step 4 for Line 4 of Code: Print the variable"
      ],
      "metadata": {
        "id": "edArg3oMulED"
      }
    },
    {
      "cell_type": "code",
      "source": [
        "i_cannot_dot_it = False\n",
        "print(i_cannot_dot_it)\n",
        "the_answer = 42.01\n",
        "print(the_answer)"
      ],
      "metadata": {
        "colab": {
          "base_uri": "https://localhost:8080/"
        },
        "id": "GWuceNyBxX5h",
        "outputId": "e4e89a71-cfac-4126-ebc8-3ec64ab9be3b"
      },
      "execution_count": 32,
      "outputs": [
        {
          "output_type": "stream",
          "name": "stdout",
          "text": [
            "False\n",
            "42.01\n"
          ]
        }
      ]
    },
    {
      "cell_type": "code",
      "source": [
        "i_cannot_dot_it = bool(0)\n",
        "print(i_cannot_dot_it)\n",
        "the_answer = float(42.01)\n",
        "print(the_answer)"
      ],
      "metadata": {
        "colab": {
          "base_uri": "https://localhost:8080/"
        },
        "outputId": "82826ddb-d6b2-44fc-85c2-6b6169ef91e1",
        "id": "08xw8z4qy-ak"
      },
      "execution_count": 33,
      "outputs": [
        {
          "output_type": "stream",
          "name": "stdout",
          "text": [
            "False\n",
            "42.01\n"
          ]
        }
      ]
    }
  ]
}