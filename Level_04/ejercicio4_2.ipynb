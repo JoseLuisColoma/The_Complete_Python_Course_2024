{
  "nbformat": 4,
  "nbformat_minor": 0,
  "metadata": {
    "colab": {
      "provenance": [],
      "authorship_tag": "ABX9TyOV1+oiyZmlJRhZd85/N73s",
      "include_colab_link": true
    },
    "kernelspec": {
      "name": "python3",
      "display_name": "Python 3"
    },
    "language_info": {
      "name": "python"
    }
  },
  "cells": [
    {
      "cell_type": "markdown",
      "metadata": {
        "id": "view-in-github",
        "colab_type": "text"
      },
      "source": [
        "<a href=\"https://colab.research.google.com/github/JoseLuisColoma/The_Complete_Python_Course_2024/blob/master/Level_04/ejercicio4_2.ipynb\" target=\"_parent\"><img src=\"https://colab.research.google.com/assets/colab-badge.svg\" alt=\"Open In Colab\"/></a>"
      ]
    },
    {
      "cell_type": "markdown",
      "source": [
        "* Step 1: Create code that asks for your name and then your age.\n",
        "* Step 2: Print this:\n",
        "* Your name is [your name]. Your age is [your age]."
      ],
      "metadata": {
        "id": "So2fGen6XmWw"
      }
    },
    {
      "cell_type": "code",
      "execution_count": 17,
      "metadata": {
        "colab": {
          "base_uri": "https://localhost:8080/"
        },
        "id": "YhNXS6tdXeJT",
        "outputId": "2717737f-2b44-4e85-819f-39375c928530"
      },
      "outputs": [
        {
          "output_type": "stream",
          "name": "stdout",
          "text": [
            "Dime tu nombre: Jose Luis\n",
            "Dime tu eedad: 30\n",
            "Tu nombre es Jose Luis y tu edad es 30 años\n",
            "Tu nombre es Jose Luis y tu edad es 30 años\n"
          ]
        }
      ],
      "source": [
        "nombre = input(\"Dime tu nombre: \")\n",
        "edad = input(\"Dime tu eedad: \")\n",
        "print(\"Tu nombre es \" + nombre + \" y tu edad es \" + str(edad) + ' años')\n",
        "# otra forma (formateada)\n",
        "print(f'Tu nombre es {nombre} y tu edad es {edad} años')"
      ]
    }
  ]
}