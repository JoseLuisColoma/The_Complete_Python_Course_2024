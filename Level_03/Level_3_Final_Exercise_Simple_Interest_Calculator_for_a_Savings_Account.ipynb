{
  "nbformat": 4,
  "nbformat_minor": 0,
  "metadata": {
    "colab": {
      "provenance": [],
      "include_colab_link": true
    },
    "kernelspec": {
      "name": "python3",
      "display_name": "Python 3"
    },
    "language_info": {
      "name": "python"
    }
  },
  "cells": [
    {
      "cell_type": "markdown",
      "metadata": {
        "id": "view-in-github",
        "colab_type": "text"
      },
      "source": [
        "<a href=\"https://colab.research.google.com/github/JoseLuisColoma/The_Complete_Python_Course_2024/blob/master/Level_03/Level_3_Final_Exercise_Simple_Interest_Calculator_for_a_Savings_Account.ipynb\" target=\"_parent\"><img src=\"https://colab.research.google.com/assets/colab-badge.svg\" alt=\"Open In Colab\"/></a>"
      ]
    },
    {
      "cell_type": "markdown",
      "source": [
        "# Level 3 Final Exercise: Simple Interest Calculator for a Savings Account\n",
        "\n",
        "## Objective\n",
        "You are an intern at a bank and you have been tasked to create a simple program to calculate the interest that customers will earn on their savings account. The interest is calculated yearly using the simple interest formula:\n",
        "\n",
        "![](https://i.ibb.co/sgZG3Md/Screenshot-2023-10-18-at-12-41-43.png)\n",
        "\n",
        "## Instructions\n",
        "\n",
        "1. Create a variable named `principal` and assign it the value of 1000 (This is the initial amount in USD).\n",
        "2. Create a variable named `rate` and assign it the value of 5 (Annual interest rate in percentage).\n",
        "3. Create a variable named `time` and assign it the value of 2 (Time in years).\n",
        "4. Calculate the simple interest using the formula above. Store the result in a variable named `interest`.\n",
        "5. Print the interest amount rounded to 2 decimal places along with a message. The message should include the `principal`, `rate`, `time`, and `interest` variables.\n"
      ],
      "metadata": {
        "id": "RRj7bMGBTJvV"
      }
    },
    {
      "cell_type": "code",
      "source": [
        "# Step 1: Initialize principal amount\n",
        "principal = 1000\n",
        "# Step 2: Initialize annual interest rate\n",
        "porcentaje = 5/100\n",
        "# Step 3: Initialize time in years\n",
        "tiempo = 2\n",
        "# Step 4: Calculate Simple Interest\n",
        "interes = float(principal) * float(porcentaje) * float(tiempo)\n",
        "# Step 5: Print the calculated interest\n",
        "print('El interés es: ' + str(interes) + '€')\n",
        "print(f'El interés es: {interes}€')\n",
        "# Make sure to include principal, rate, time, and interest in your print statement\n",
        "\n",
        "# Your code ends here"
      ],
      "metadata": {
        "id": "jBkVQIZMTJeI",
        "colab": {
          "base_uri": "https://localhost:8080/"
        },
        "outputId": "47079696-67eb-401e-c994-b5851e8f6d81"
      },
      "execution_count": 5,
      "outputs": [
        {
          "output_type": "stream",
          "name": "stdout",
          "text": [
            "El interés es: 100.0€\n",
            "El interés es: 100.0€\n"
          ]
        }
      ]
    },
    {
      "cell_type": "markdown",
      "source": [
        "\n",
        "## Expected Output\n",
        "Your program should print a message like the following:\n",
        "\n",
        "```\n",
        "With a principal amount of 1000 USD, at an annual interest rate of 5%, in 2 years you will earn 100.0 USD in interest.\n",
        "```"
      ],
      "metadata": {
        "id": "nhfA-5WuTQLu"
      }
    }
  ]
}