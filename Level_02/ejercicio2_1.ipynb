{
  "nbformat": 4,
  "nbformat_minor": 0,
  "metadata": {
    "colab": {
      "provenance": [],
      "authorship_tag": "ABX9TyMe9oQavJ/IBb6FGNYHDDmD",
      "include_colab_link": true
    },
    "kernelspec": {
      "name": "python3",
      "display_name": "Python 3"
    },
    "language_info": {
      "name": "python"
    }
  },
  "cells": [
    {
      "cell_type": "markdown",
      "metadata": {
        "id": "view-in-github",
        "colab_type": "text"
      },
      "source": [
        "<a href=\"https://colab.research.google.com/github/JoseLuisColoma/The_Complete_Python_Course_2024/blob/master/Level_01/ejercicio2_1.ipynb\" target=\"_parent\"><img src=\"https://colab.research.google.com/assets/colab-badge.svg\" alt=\"Open In Colab\"/></a>"
      ]
    },
    {
      "cell_type": "markdown",
      "source": [
        "* Step 1 for Line 1 of Code: Define name as a string variable & call it Darth Vader\n",
        "* Step 2 for Line 2 of Code: Print the name Darth Vader\n",
        "* Step 3 for Line 3 of Code: Define age as an integer variable and make it 19\n",
        "* Step 4 for Line 4 of Code: Print the age"
      ],
      "metadata": {
        "id": "edArg3oMulED"
      }
    },
    {
      "cell_type": "code",
      "execution_count": 16,
      "metadata": {
        "colab": {
          "base_uri": "https://localhost:8080/"
        },
        "id": "X6hKXpowXj0-",
        "outputId": "9f2e86be-cd5b-4857-ffcc-f827f445c499"
      },
      "outputs": [
        {
          "output_type": "stream",
          "name": "stdout",
          "text": [
            "Darth Vader\n",
            "19\n"
          ]
        }
      ],
      "source": [
        "name = str('Darth Vader')\n",
        "print(name)\n",
        "age = int(19)\n",
        "print(age)"
      ]
    }
  ]
}