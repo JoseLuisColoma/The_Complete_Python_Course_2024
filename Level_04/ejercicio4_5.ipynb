{
  "nbformat": 4,
  "nbformat_minor": 0,
  "metadata": {
    "colab": {
      "provenance": [],
      "authorship_tag": "ABX9TyOmfEhloEFGNsFk09af5eMS",
      "include_colab_link": true
    },
    "kernelspec": {
      "name": "python3",
      "display_name": "Python 3"
    },
    "language_info": {
      "name": "python"
    }
  },
  "cells": [
    {
      "cell_type": "markdown",
      "metadata": {
        "id": "view-in-github",
        "colab_type": "text"
      },
      "source": [
        "<a href=\"https://colab.research.google.com/github/JoseLuisColoma/The_Complete_Python_Course_2024/blob/master/Level_04/ejercicio4_5.ipynb\" target=\"_parent\"><img src=\"https://colab.research.google.com/assets/colab-badge.svg\" alt=\"Open In Colab\"/></a>"
      ]
    },
    {
      "cell_type": "markdown",
      "source": [
        "* Step 1: Create a function called my_age with 1 variable in\n",
        "brackets called age.\n",
        "* Step 2: In the custom function, print my age is [your age].\n",
        "* Step 3: Call the function, using the age of 39.\n",
        "* Step 4: Change the default age in the function to 19.\n",
        "* Step 5: Call the function with nothing in brackets."
      ],
      "metadata": {
        "id": "So2fGen6XmWw"
      }
    },
    {
      "cell_type": "code",
      "source": [
        "def mi_edad(edad=19):\n",
        "  print(f'Mi edad son {edad} años')\n",
        "\n",
        "mi_edad(39)\n",
        "# otra forma\n",
        "mi_edad(edad=39)\n",
        "mi_edad()\n"
      ],
      "metadata": {
        "colab": {
          "base_uri": "https://localhost:8080/"
        },
        "id": "RzZ82uN1TEzB",
        "outputId": "8910b1fb-e7bd-4e5e-a7e1-0b8890444893"
      },
      "execution_count": 5,
      "outputs": [
        {
          "output_type": "stream",
          "name": "stdout",
          "text": [
            "Mi edad son 39 años\n",
            "Mi edad son 39 años\n",
            "Mi edad son 19 años\n"
          ]
        }
      ]
    }
  ]
}