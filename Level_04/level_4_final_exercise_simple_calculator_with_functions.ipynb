{
  "nbformat": 4,
  "nbformat_minor": 0,
  "metadata": {
    "colab": {
      "provenance": [],
      "include_colab_link": true
    },
    "kernelspec": {
      "name": "python3",
      "display_name": "Python 3"
    },
    "language_info": {
      "name": "python"
    }
  },
  "cells": [
    {
      "cell_type": "markdown",
      "metadata": {
        "id": "view-in-github",
        "colab_type": "text"
      },
      "source": [
        "<a href=\"https://colab.research.google.com/github/JoseLuisColoma/The_Complete_Python_Course_2024/blob/master/Level_04/level_4_final_exercise_simple_calculator_with_functions.ipynb\" target=\"_parent\"><img src=\"https://colab.research.google.com/assets/colab-badge.svg\" alt=\"Open In Colab\"/></a>"
      ]
    },
    {
      "cell_type": "markdown",
      "source": [
        "# Level 4 Final Exercise: Simple Calculator with Functions\n",
        "\n",
        "## Objective\n",
        "You're working on a software team that's building a user-friendly calculator app. Your task is to build a section of the calculator that performs basic operations (addition, subtraction, multiplication, division) using functions.\n",
        "\n",
        "## Instructions\n",
        "\n",
        "1. Create a function named `add` that takes two arguments and returns their sum.\n",
        "2. Create a function named `subtract` that takes two arguments and returns the result of the first argument minus the second argument.\n",
        "3. Create a function named `multiply` that takes two arguments and returns their product.\n",
        "4. Create a function named `divide` that takes two arguments and returns the result of the first argument divided by the second argument. Round the result to 2 decimal places.\n",
        "5. Use the `input()` function to take two numbers from the user. Make sure to conver them to FLOAT!\n",
        "6. Also use the `input()` function to take an operator (either +, -, *, or /).\n",
        "7. Based on the operator, call the corresponding function and print the result. [Done for you :)]\n",
        "\n",
        "## Code Template\n",
        "Here is a code template to get you started:\n"
      ],
      "metadata": {
        "id": "FUcm3ZG_UugS"
      }
    },
    {
      "cell_type": "code",
      "execution_count": null,
      "metadata": {
        "id": "AQXBIfGMUqBD",
        "colab": {
          "base_uri": "https://localhost:8080/"
        },
        "outputId": "99a3f16b-059f-4d7b-b376-6f1e2e770b64"
      },
      "outputs": [
        {
          "name": "stdout",
          "output_type": "stream",
          "text": [
            "num1: 5\n",
            "num2: 0\n"
          ]
        }
      ],
      "source": [
        "# Step 1: Create the add function\n",
        "def sumar(num1, num2):\n",
        "  return num1+num2\n",
        "# Step 2: Create the subtract function\n",
        "def restar(num1, num2):\n",
        "  return num1-num2\n",
        "# Step 3: Create the multiply function\n",
        "def multiplicar(num1, num2):\n",
        "  return num1*num2\n",
        "# Step 4: Create the divide function\n",
        "def dividir(num1, num2):\n",
        "  return num1/num2\n",
        "# Step 5: Take user input for numbers\n",
        "num1 = float(input('num1: '))\n",
        "# Step 6: Take user input for the operator\n",
        "num2 = float(input('num2: '))\n"
      ]
    },
    {
      "cell_type": "code",
      "source": [
        "# Ifs are covered later in the course, so no worries about this part just yet! :)\n",
        "# Step 7: Perform the calculation and print the result\n",
        "operador = input('Introduce la operación a realizar (+, -, *,  /): ')\n",
        "\n",
        "if operador == '+':\n",
        "  print(f'El resultado es {sumar(num1, num2)}')\n",
        "elif operador == '-':\n",
        "  print(f'El resultado es {restar(num1, num2)}')\n",
        "elif operador == '*':\n",
        "  print(f'El resultado es {multiplicar(num1, num2)}')\n",
        "elif operador == '/':\n",
        "  if num2 == 0:\n",
        "    print('No se puede dividir por 0')\n",
        "  else:\n",
        "    print(f'El resultado es {dividir(num1, num2)}')\n",
        "else:\n",
        "  print('operador inválido')"
      ],
      "metadata": {
        "id": "Zc6vzFPvVZhm",
        "colab": {
          "base_uri": "https://localhost:8080/"
        },
        "outputId": "e1c4746b-77ef-49bf-97fc-91368fcea106"
      },
      "execution_count": null,
      "outputs": [
        {
          "output_type": "stream",
          "name": "stdout",
          "text": [
            "Introduce la operación a realizar (+, -, *,  /): *\n",
            "El resultado es 0.0\n"
          ]
        }
      ]
    },
    {
      "cell_type": "markdown",
      "source": [
        "\n",
        "\n",
        "\n",
        "## Expected Output\n",
        "After entering the numbers and the operator, the program should print the result like so:\n",
        "\n",
        "```\n",
        "Enter the first number: 10\n",
        "Enter the second number: 5\n",
        "Enter an operator (+, -, *, /): +\n",
        "The result is: 15.0\n",
        "```"
      ],
      "metadata": {
        "id": "yNgl-W7kVRmV"
      }
    },
    {
      "cell_type": "code",
      "source": [],
      "metadata": {
        "id": "TsQbpm3CVXfF"
      },
      "execution_count": null,
      "outputs": []
    }
  ]
}